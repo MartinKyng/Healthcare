{
 "cells": [
  {
   "cell_type": "markdown",
   "id": "1d802946",
   "metadata": {},
   "source": [
    "# Loading dataset and performing EDA + modeling for heart disease prediction\n",
    "# This code will:\n",
    "# 1. Load ../Healthcare/dataset/heart.csv\n",
    "# 2. Show head, shape, data types, missing values, summary stats\n",
    "# 3. Show target distribution and chest pain counts (if present)\n",
    "# 4. Compute correlations and show a correlation matrix plot\n",
    "# 5. Preprocess features (one-hot encode categorical columns where appropriate)\n",
    "# 6. Train/test split, scale numeric features\n",
    "# 7. Train Logistic Regression and Random Forest classifiers\n",
    "# 8. Evaluate models (accuracy, ROC-AUC, classification report, confusion matrix)\n",
    "# 9. Show feature importances for Random Forest and coefficient magnitudes for Logistic Regression\n",
    "# 10. Plot ROC curve for the best model"
   ]
  },
  {
   "cell_type": "code",
   "execution_count": 1,
   "id": "29e7e79e",
   "metadata": {},
   "outputs": [],
   "source": [
    "from pathlib import Path\n",
    "import pandas as pd\n",
    "import numpy as np\n",
    "from sklearn.model_selection import train_test_split, GridSearchCV\n",
    "from sklearn.preprocessing import StandardScaler\n",
    "from sklearn.linear_model import LogisticRegression\n",
    "from sklearn.ensemble import RandomForestClassifier\n",
    "from sklearn.metrics import accuracy_score, roc_auc_score, classification_report, confusion_matrix, roc_curve, auc\n",
    "import matplotlib.pyplot as plt\n",
    "import warnings\n",
    "warnings.filterwarnings(\"ignore\")"
   ]
  },
  {
   "cell_type": "code",
   "execution_count": 2,
   "id": "4025ac7d",
   "metadata": {},
   "outputs": [],
   "source": [
    "data_path = Path(r\"..\\Healthcare\\dataset\\heart.csv\")\n",
    "if not data_path.exists():\n",
    "    raise FileNotFoundError(f\"Dataset not found at {data_path}\")"
   ]
  },
  {
   "cell_type": "code",
   "execution_count": 3,
   "id": "440b93bf",
   "metadata": {},
   "outputs": [
    {
     "name": "stdout",
     "output_type": "stream",
     "text": [
      "Dataset loaded from: ..\\Healthcare\\dataset\\heart.csv\n",
      "\n",
      "Shape: (1025, 14)\n"
     ]
    }
   ],
   "source": [
    "# 1. Load dataset\n",
    "df = pd.read_csv(data_path)\n",
    "print(\"Dataset loaded from:\", data_path)\n",
    "print(\"\\nShape:\", df.shape)"
   ]
  },
  {
   "cell_type": "code",
   "execution_count": 4,
   "id": "b64b8cdf",
   "metadata": {},
   "outputs": [
    {
     "data": {
      "application/vnd.microsoft.datawrangler.viewer.v0+json": {
       "columns": [
        {
         "name": "index",
         "rawType": "int64",
         "type": "integer"
        },
        {
         "name": "age",
         "rawType": "int64",
         "type": "integer"
        },
        {
         "name": "sex",
         "rawType": "int64",
         "type": "integer"
        },
        {
         "name": "cp",
         "rawType": "int64",
         "type": "integer"
        },
        {
         "name": "trestbps",
         "rawType": "int64",
         "type": "integer"
        },
        {
         "name": "chol",
         "rawType": "int64",
         "type": "integer"
        },
        {
         "name": "fbs",
         "rawType": "int64",
         "type": "integer"
        },
        {
         "name": "restecg",
         "rawType": "int64",
         "type": "integer"
        },
        {
         "name": "thalach",
         "rawType": "int64",
         "type": "integer"
        },
        {
         "name": "exang",
         "rawType": "int64",
         "type": "integer"
        },
        {
         "name": "oldpeak",
         "rawType": "float64",
         "type": "float"
        },
        {
         "name": "slope",
         "rawType": "int64",
         "type": "integer"
        },
        {
         "name": "ca",
         "rawType": "int64",
         "type": "integer"
        },
        {
         "name": "thal",
         "rawType": "int64",
         "type": "integer"
        },
        {
         "name": "target",
         "rawType": "int64",
         "type": "integer"
        }
       ],
       "ref": "1dc3d546-cf72-43ef-98f9-eeaa0371de9e",
       "rows": [
        [
         "0",
         "52",
         "1",
         "0",
         "125",
         "212",
         "0",
         "1",
         "168",
         "0",
         "1.0",
         "2",
         "2",
         "3",
         "0"
        ],
        [
         "1",
         "53",
         "1",
         "0",
         "140",
         "203",
         "1",
         "0",
         "155",
         "1",
         "3.1",
         "0",
         "0",
         "3",
         "0"
        ],
        [
         "2",
         "70",
         "1",
         "0",
         "145",
         "174",
         "0",
         "1",
         "125",
         "1",
         "2.6",
         "0",
         "0",
         "3",
         "0"
        ],
        [
         "3",
         "61",
         "1",
         "0",
         "148",
         "203",
         "0",
         "1",
         "161",
         "0",
         "0.0",
         "2",
         "1",
         "3",
         "0"
        ],
        [
         "4",
         "62",
         "0",
         "0",
         "138",
         "294",
         "1",
         "1",
         "106",
         "0",
         "1.9",
         "1",
         "3",
         "2",
         "0"
        ]
       ],
       "shape": {
        "columns": 14,
        "rows": 5
       }
      },
      "text/html": [
       "<div>\n",
       "<style scoped>\n",
       "    .dataframe tbody tr th:only-of-type {\n",
       "        vertical-align: middle;\n",
       "    }\n",
       "\n",
       "    .dataframe tbody tr th {\n",
       "        vertical-align: top;\n",
       "    }\n",
       "\n",
       "    .dataframe thead th {\n",
       "        text-align: right;\n",
       "    }\n",
       "</style>\n",
       "<table border=\"1\" class=\"dataframe\">\n",
       "  <thead>\n",
       "    <tr style=\"text-align: right;\">\n",
       "      <th></th>\n",
       "      <th>age</th>\n",
       "      <th>sex</th>\n",
       "      <th>cp</th>\n",
       "      <th>trestbps</th>\n",
       "      <th>chol</th>\n",
       "      <th>fbs</th>\n",
       "      <th>restecg</th>\n",
       "      <th>thalach</th>\n",
       "      <th>exang</th>\n",
       "      <th>oldpeak</th>\n",
       "      <th>slope</th>\n",
       "      <th>ca</th>\n",
       "      <th>thal</th>\n",
       "      <th>target</th>\n",
       "    </tr>\n",
       "  </thead>\n",
       "  <tbody>\n",
       "    <tr>\n",
       "      <th>0</th>\n",
       "      <td>52</td>\n",
       "      <td>1</td>\n",
       "      <td>0</td>\n",
       "      <td>125</td>\n",
       "      <td>212</td>\n",
       "      <td>0</td>\n",
       "      <td>1</td>\n",
       "      <td>168</td>\n",
       "      <td>0</td>\n",
       "      <td>1.0</td>\n",
       "      <td>2</td>\n",
       "      <td>2</td>\n",
       "      <td>3</td>\n",
       "      <td>0</td>\n",
       "    </tr>\n",
       "    <tr>\n",
       "      <th>1</th>\n",
       "      <td>53</td>\n",
       "      <td>1</td>\n",
       "      <td>0</td>\n",
       "      <td>140</td>\n",
       "      <td>203</td>\n",
       "      <td>1</td>\n",
       "      <td>0</td>\n",
       "      <td>155</td>\n",
       "      <td>1</td>\n",
       "      <td>3.1</td>\n",
       "      <td>0</td>\n",
       "      <td>0</td>\n",
       "      <td>3</td>\n",
       "      <td>0</td>\n",
       "    </tr>\n",
       "    <tr>\n",
       "      <th>2</th>\n",
       "      <td>70</td>\n",
       "      <td>1</td>\n",
       "      <td>0</td>\n",
       "      <td>145</td>\n",
       "      <td>174</td>\n",
       "      <td>0</td>\n",
       "      <td>1</td>\n",
       "      <td>125</td>\n",
       "      <td>1</td>\n",
       "      <td>2.6</td>\n",
       "      <td>0</td>\n",
       "      <td>0</td>\n",
       "      <td>3</td>\n",
       "      <td>0</td>\n",
       "    </tr>\n",
       "    <tr>\n",
       "      <th>3</th>\n",
       "      <td>61</td>\n",
       "      <td>1</td>\n",
       "      <td>0</td>\n",
       "      <td>148</td>\n",
       "      <td>203</td>\n",
       "      <td>0</td>\n",
       "      <td>1</td>\n",
       "      <td>161</td>\n",
       "      <td>0</td>\n",
       "      <td>0.0</td>\n",
       "      <td>2</td>\n",
       "      <td>1</td>\n",
       "      <td>3</td>\n",
       "      <td>0</td>\n",
       "    </tr>\n",
       "    <tr>\n",
       "      <th>4</th>\n",
       "      <td>62</td>\n",
       "      <td>0</td>\n",
       "      <td>0</td>\n",
       "      <td>138</td>\n",
       "      <td>294</td>\n",
       "      <td>1</td>\n",
       "      <td>1</td>\n",
       "      <td>106</td>\n",
       "      <td>0</td>\n",
       "      <td>1.9</td>\n",
       "      <td>1</td>\n",
       "      <td>3</td>\n",
       "      <td>2</td>\n",
       "      <td>0</td>\n",
       "    </tr>\n",
       "  </tbody>\n",
       "</table>\n",
       "</div>"
      ],
      "text/plain": [
       "   age  sex  cp  trestbps  chol  fbs  restecg  thalach  exang  oldpeak  slope  \\\n",
       "0   52    1   0       125   212    0        1      168      0      1.0      2   \n",
       "1   53    1   0       140   203    1        0      155      1      3.1      0   \n",
       "2   70    1   0       145   174    0        1      125      1      2.6      0   \n",
       "3   61    1   0       148   203    0        1      161      0      0.0      2   \n",
       "4   62    0   0       138   294    1        1      106      0      1.9      1   \n",
       "\n",
       "   ca  thal  target  \n",
       "0   2     3       0  \n",
       "1   0     3       0  \n",
       "2   0     3       0  \n",
       "3   1     3       0  \n",
       "4   3     2       0  "
      ]
     },
     "metadata": {},
     "output_type": "display_data"
    },
    {
     "name": "stdout",
     "output_type": "stream",
     "text": [
      "\n",
      "Data types:\n",
      "age           int64\n",
      "sex           int64\n",
      "cp            int64\n",
      "trestbps      int64\n",
      "chol          int64\n",
      "fbs           int64\n",
      "restecg       int64\n",
      "thalach       int64\n",
      "exang         int64\n",
      "oldpeak     float64\n",
      "slope         int64\n",
      "ca            int64\n",
      "thal          int64\n",
      "target        int64\n",
      "dtype: object\n"
     ]
    }
   ],
   "source": [
    "# 2. Quick look\n",
    "display(df.head())\n",
    "print(\"\\nData types:\")\n",
    "print(df.dtypes)"
   ]
  },
  {
   "cell_type": "code",
   "execution_count": 5,
   "id": "5273e756",
   "metadata": {},
   "outputs": [
    {
     "name": "stdout",
     "output_type": "stream",
     "text": [
      "\n",
      "Missing values per column:\n",
      "age         0\n",
      "sex         0\n",
      "cp          0\n",
      "trestbps    0\n",
      "chol        0\n",
      "fbs         0\n",
      "restecg     0\n",
      "thalach     0\n",
      "exang       0\n",
      "oldpeak     0\n",
      "slope       0\n",
      "ca          0\n",
      "thal        0\n",
      "target      0\n",
      "dtype: int64\n",
      "\n",
      "Summary statistics (numeric columns):\n"
     ]
    },
    {
     "data": {
      "application/vnd.microsoft.datawrangler.viewer.v0+json": {
       "columns": [
        {
         "name": "index",
         "rawType": "object",
         "type": "string"
        },
        {
         "name": "count",
         "rawType": "float64",
         "type": "float"
        },
        {
         "name": "mean",
         "rawType": "float64",
         "type": "float"
        },
        {
         "name": "std",
         "rawType": "float64",
         "type": "float"
        },
        {
         "name": "min",
         "rawType": "float64",
         "type": "float"
        },
        {
         "name": "25%",
         "rawType": "float64",
         "type": "float"
        },
        {
         "name": "50%",
         "rawType": "float64",
         "type": "float"
        },
        {
         "name": "75%",
         "rawType": "float64",
         "type": "float"
        },
        {
         "name": "max",
         "rawType": "float64",
         "type": "float"
        }
       ],
       "ref": "07bf6438-4c75-485a-9c09-b6a5e184f573",
       "rows": [
        [
         "age",
         "1025.0",
         "54.43414634146342",
         "9.072290233244281",
         "29.0",
         "48.0",
         "56.0",
         "61.0",
         "77.0"
        ],
        [
         "sex",
         "1025.0",
         "0.6956097560975609",
         "0.4603733241196503",
         "0.0",
         "0.0",
         "1.0",
         "1.0",
         "1.0"
        ],
        [
         "cp",
         "1025.0",
         "0.9424390243902439",
         "1.0296407436458572",
         "0.0",
         "0.0",
         "1.0",
         "2.0",
         "3.0"
        ],
        [
         "trestbps",
         "1025.0",
         "131.61170731707318",
         "17.516718005376408",
         "94.0",
         "120.0",
         "130.0",
         "140.0",
         "200.0"
        ],
        [
         "chol",
         "1025.0",
         "246.0",
         "51.59251020618206",
         "126.0",
         "211.0",
         "240.0",
         "275.0",
         "564.0"
        ],
        [
         "fbs",
         "1025.0",
         "0.14926829268292682",
         "0.3565266897271594",
         "0.0",
         "0.0",
         "0.0",
         "0.0",
         "1.0"
        ],
        [
         "restecg",
         "1025.0",
         "0.5297560975609756",
         "0.5278775668748926",
         "0.0",
         "0.0",
         "1.0",
         "1.0",
         "2.0"
        ],
        [
         "thalach",
         "1025.0",
         "149.11414634146342",
         "23.005723745977196",
         "71.0",
         "132.0",
         "152.0",
         "166.0",
         "202.0"
        ],
        [
         "exang",
         "1025.0",
         "0.33658536585365856",
         "0.4727723760037095",
         "0.0",
         "0.0",
         "0.0",
         "1.0",
         "1.0"
        ],
        [
         "oldpeak",
         "1025.0",
         "1.0715121951219515",
         "1.175053255150173",
         "0.0",
         "0.0",
         "0.8",
         "1.8",
         "6.2"
        ],
        [
         "slope",
         "1025.0",
         "1.3853658536585365",
         "0.6177552671745906",
         "0.0",
         "1.0",
         "1.0",
         "2.0",
         "2.0"
        ],
        [
         "ca",
         "1025.0",
         "0.7541463414634146",
         "1.0307976650242847",
         "0.0",
         "0.0",
         "0.0",
         "1.0",
         "4.0"
        ],
        [
         "thal",
         "1025.0",
         "2.32390243902439",
         "0.620660238051028",
         "0.0",
         "2.0",
         "2.0",
         "3.0",
         "3.0"
        ],
        [
         "target",
         "1025.0",
         "0.5131707317073171",
         "0.5000704980788051",
         "0.0",
         "0.0",
         "1.0",
         "1.0",
         "1.0"
        ]
       ],
       "shape": {
        "columns": 8,
        "rows": 14
       }
      },
      "text/html": [
       "<div>\n",
       "<style scoped>\n",
       "    .dataframe tbody tr th:only-of-type {\n",
       "        vertical-align: middle;\n",
       "    }\n",
       "\n",
       "    .dataframe tbody tr th {\n",
       "        vertical-align: top;\n",
       "    }\n",
       "\n",
       "    .dataframe thead th {\n",
       "        text-align: right;\n",
       "    }\n",
       "</style>\n",
       "<table border=\"1\" class=\"dataframe\">\n",
       "  <thead>\n",
       "    <tr style=\"text-align: right;\">\n",
       "      <th></th>\n",
       "      <th>count</th>\n",
       "      <th>mean</th>\n",
       "      <th>std</th>\n",
       "      <th>min</th>\n",
       "      <th>25%</th>\n",
       "      <th>50%</th>\n",
       "      <th>75%</th>\n",
       "      <th>max</th>\n",
       "    </tr>\n",
       "  </thead>\n",
       "  <tbody>\n",
       "    <tr>\n",
       "      <th>age</th>\n",
       "      <td>1025.0</td>\n",
       "      <td>54.434146</td>\n",
       "      <td>9.072290</td>\n",
       "      <td>29.0</td>\n",
       "      <td>48.0</td>\n",
       "      <td>56.0</td>\n",
       "      <td>61.0</td>\n",
       "      <td>77.0</td>\n",
       "    </tr>\n",
       "    <tr>\n",
       "      <th>sex</th>\n",
       "      <td>1025.0</td>\n",
       "      <td>0.695610</td>\n",
       "      <td>0.460373</td>\n",
       "      <td>0.0</td>\n",
       "      <td>0.0</td>\n",
       "      <td>1.0</td>\n",
       "      <td>1.0</td>\n",
       "      <td>1.0</td>\n",
       "    </tr>\n",
       "    <tr>\n",
       "      <th>cp</th>\n",
       "      <td>1025.0</td>\n",
       "      <td>0.942439</td>\n",
       "      <td>1.029641</td>\n",
       "      <td>0.0</td>\n",
       "      <td>0.0</td>\n",
       "      <td>1.0</td>\n",
       "      <td>2.0</td>\n",
       "      <td>3.0</td>\n",
       "    </tr>\n",
       "    <tr>\n",
       "      <th>trestbps</th>\n",
       "      <td>1025.0</td>\n",
       "      <td>131.611707</td>\n",
       "      <td>17.516718</td>\n",
       "      <td>94.0</td>\n",
       "      <td>120.0</td>\n",
       "      <td>130.0</td>\n",
       "      <td>140.0</td>\n",
       "      <td>200.0</td>\n",
       "    </tr>\n",
       "    <tr>\n",
       "      <th>chol</th>\n",
       "      <td>1025.0</td>\n",
       "      <td>246.000000</td>\n",
       "      <td>51.592510</td>\n",
       "      <td>126.0</td>\n",
       "      <td>211.0</td>\n",
       "      <td>240.0</td>\n",
       "      <td>275.0</td>\n",
       "      <td>564.0</td>\n",
       "    </tr>\n",
       "    <tr>\n",
       "      <th>fbs</th>\n",
       "      <td>1025.0</td>\n",
       "      <td>0.149268</td>\n",
       "      <td>0.356527</td>\n",
       "      <td>0.0</td>\n",
       "      <td>0.0</td>\n",
       "      <td>0.0</td>\n",
       "      <td>0.0</td>\n",
       "      <td>1.0</td>\n",
       "    </tr>\n",
       "    <tr>\n",
       "      <th>restecg</th>\n",
       "      <td>1025.0</td>\n",
       "      <td>0.529756</td>\n",
       "      <td>0.527878</td>\n",
       "      <td>0.0</td>\n",
       "      <td>0.0</td>\n",
       "      <td>1.0</td>\n",
       "      <td>1.0</td>\n",
       "      <td>2.0</td>\n",
       "    </tr>\n",
       "    <tr>\n",
       "      <th>thalach</th>\n",
       "      <td>1025.0</td>\n",
       "      <td>149.114146</td>\n",
       "      <td>23.005724</td>\n",
       "      <td>71.0</td>\n",
       "      <td>132.0</td>\n",
       "      <td>152.0</td>\n",
       "      <td>166.0</td>\n",
       "      <td>202.0</td>\n",
       "    </tr>\n",
       "    <tr>\n",
       "      <th>exang</th>\n",
       "      <td>1025.0</td>\n",
       "      <td>0.336585</td>\n",
       "      <td>0.472772</td>\n",
       "      <td>0.0</td>\n",
       "      <td>0.0</td>\n",
       "      <td>0.0</td>\n",
       "      <td>1.0</td>\n",
       "      <td>1.0</td>\n",
       "    </tr>\n",
       "    <tr>\n",
       "      <th>oldpeak</th>\n",
       "      <td>1025.0</td>\n",
       "      <td>1.071512</td>\n",
       "      <td>1.175053</td>\n",
       "      <td>0.0</td>\n",
       "      <td>0.0</td>\n",
       "      <td>0.8</td>\n",
       "      <td>1.8</td>\n",
       "      <td>6.2</td>\n",
       "    </tr>\n",
       "    <tr>\n",
       "      <th>slope</th>\n",
       "      <td>1025.0</td>\n",
       "      <td>1.385366</td>\n",
       "      <td>0.617755</td>\n",
       "      <td>0.0</td>\n",
       "      <td>1.0</td>\n",
       "      <td>1.0</td>\n",
       "      <td>2.0</td>\n",
       "      <td>2.0</td>\n",
       "    </tr>\n",
       "    <tr>\n",
       "      <th>ca</th>\n",
       "      <td>1025.0</td>\n",
       "      <td>0.754146</td>\n",
       "      <td>1.030798</td>\n",
       "      <td>0.0</td>\n",
       "      <td>0.0</td>\n",
       "      <td>0.0</td>\n",
       "      <td>1.0</td>\n",
       "      <td>4.0</td>\n",
       "    </tr>\n",
       "    <tr>\n",
       "      <th>thal</th>\n",
       "      <td>1025.0</td>\n",
       "      <td>2.323902</td>\n",
       "      <td>0.620660</td>\n",
       "      <td>0.0</td>\n",
       "      <td>2.0</td>\n",
       "      <td>2.0</td>\n",
       "      <td>3.0</td>\n",
       "      <td>3.0</td>\n",
       "    </tr>\n",
       "    <tr>\n",
       "      <th>target</th>\n",
       "      <td>1025.0</td>\n",
       "      <td>0.513171</td>\n",
       "      <td>0.500070</td>\n",
       "      <td>0.0</td>\n",
       "      <td>0.0</td>\n",
       "      <td>1.0</td>\n",
       "      <td>1.0</td>\n",
       "      <td>1.0</td>\n",
       "    </tr>\n",
       "  </tbody>\n",
       "</table>\n",
       "</div>"
      ],
      "text/plain": [
       "           count        mean        std    min    25%    50%    75%    max\n",
       "age       1025.0   54.434146   9.072290   29.0   48.0   56.0   61.0   77.0\n",
       "sex       1025.0    0.695610   0.460373    0.0    0.0    1.0    1.0    1.0\n",
       "cp        1025.0    0.942439   1.029641    0.0    0.0    1.0    2.0    3.0\n",
       "trestbps  1025.0  131.611707  17.516718   94.0  120.0  130.0  140.0  200.0\n",
       "chol      1025.0  246.000000  51.592510  126.0  211.0  240.0  275.0  564.0\n",
       "fbs       1025.0    0.149268   0.356527    0.0    0.0    0.0    0.0    1.0\n",
       "restecg   1025.0    0.529756   0.527878    0.0    0.0    1.0    1.0    2.0\n",
       "thalach   1025.0  149.114146  23.005724   71.0  132.0  152.0  166.0  202.0\n",
       "exang     1025.0    0.336585   0.472772    0.0    0.0    0.0    1.0    1.0\n",
       "oldpeak   1025.0    1.071512   1.175053    0.0    0.0    0.8    1.8    6.2\n",
       "slope     1025.0    1.385366   0.617755    0.0    1.0    1.0    2.0    2.0\n",
       "ca        1025.0    0.754146   1.030798    0.0    0.0    0.0    1.0    4.0\n",
       "thal      1025.0    2.323902   0.620660    0.0    2.0    2.0    3.0    3.0\n",
       "target    1025.0    0.513171   0.500070    0.0    0.0    1.0    1.0    1.0"
      ]
     },
     "metadata": {},
     "output_type": "display_data"
    },
    {
     "name": "stdout",
     "output_type": "stream",
     "text": [
      "\n",
      "Possible target columns found: ['target']\n",
      "Using target column: target\n"
     ]
    }
   ],
   "source": [
    "\n",
    "# 3. Missing values and basic stats\n",
    "print(\"\\nMissing values per column:\")\n",
    "print(df.isna().sum())\n",
    "\n",
    "print(\"\\nSummary statistics (numeric columns):\")\n",
    "display(df.describe().T)\n",
    "\n",
    "# Identify target column (common names: target, disease, heart_disease)\n",
    "possible_targets = [c for c in df.columns if c.lower() in (\"target\", \"disease\", \"heartdisease\", \"heart_disease\", \"has_disease\", \"condition\")]\n",
    "print(\"\\nPossible target columns found:\", possible_targets)\n",
    "\n",
    "# If none, we'll ask and try to infer common column names; otherwise assume 'target' if present.\n",
    "target_col = None\n",
    "if \"target\" in df.columns:\n",
    "    target_col = \"target\"\n",
    "elif possible_targets:\n",
    "    target_col = possible_targets[0]\n",
    "else:\n",
    "    # try common alternate names\n",
    "    for name in [\"heart_disease\", \"disease\", \"HeartDisease\", \"num\"]:\n",
    "        if name in df.columns:\n",
    "            target_col = name\n",
    "            break\n",
    "if target_col is None:\n",
    "    # fallback to last column\n",
    "    target_col = df.columns[-1]\n",
    "print(\"Using target column:\", target_col)"
   ]
  },
  {
   "cell_type": "code",
   "execution_count": null,
   "id": "efd077ab",
   "metadata": {},
   "outputs": [
    {
     "name": "stdout",
     "output_type": "stream",
     "text": [
      "\n",
      "Target value counts:\n",
      "target\n",
      "1    526\n",
      "0    499\n",
      "Name: count, dtype: int64\n"
     ]
    }
   ],
   "source": [
    "# 4. Target distribution\n",
    "print(\"\\nTarget value counts:\")\n",
    "print(df[target_col].value_counts(dropna=False))\n"
   ]
  },
  {
   "cell_type": "code",
   "execution_count": 7,
   "id": "faf587e7",
   "metadata": {},
   "outputs": [
    {
     "name": "stdout",
     "output_type": "stream",
     "text": [
      "\n",
      "Unique values for some likely categorical columns (if present):\n",
      "cp: [np.int64(0), np.int64(1), np.int64(2), np.int64(3)]\n",
      "sex: [np.int64(0), np.int64(1)]\n",
      "fbs: [np.int64(0), np.int64(1)]\n",
      "exang: [np.int64(0), np.int64(1)]\n",
      "slope: [np.int64(0), np.int64(1), np.int64(2)]\n",
      "ca: [np.int64(0), np.int64(1), np.int64(2), np.int64(3), np.int64(4)]\n",
      "thal: [np.int64(0), np.int64(1), np.int64(2), np.int64(3)]\n"
     ]
    }
   ],
   "source": [
    "# 5. Inspect categorical columns commonly used in heart datasets\n",
    "print(\"\\nUnique values for some likely categorical columns (if present):\")\n",
    "for col in [\"cp\", \"sex\", \"fbs\", \"exang\", \"slope\", \"ca\", \"thal\"]:\n",
    "    if col in df.columns:\n",
    "        print(f\"{col}: {sorted(df[col].unique())}\")"
   ]
  },
  {
   "cell_type": "code",
   "execution_count": 8,
   "id": "d13d9e28",
   "metadata": {},
   "outputs": [
    {
     "data": {
      "image/png": "[encoded data removed]",
      "text/plain": [
       "<Figure size 800x600 with 2 Axes>"
      ]
     },
     "metadata": {},
     "output_type": "display_data"
    }
   ],
   "source": [
    "# 6. Correlation matrix for numeric columns\n",
    "numeric_df = df.select_dtypes(include=[np.number])\n",
    "corr = numeric_df.corr()\n",
    "\n",
    "plt.figure(figsize=(8,6))\n",
    "plt.title(\"Correlation matrix (numeric features)\")\n",
    "plt.imshow(corr, aspect='auto')\n",
    "plt.colorbar()\n",
    "plt.xticks(range(len(corr.columns)), corr.columns, rotation=90)\n",
    "plt.yticks(range(len(corr.columns)), corr.columns)\n",
    "plt.tight_layout()\n",
    "plt.show()"
   ]
  },
  {
   "cell_type": "code",
   "execution_count": 9,
   "id": "5b52e3a9",
   "metadata": {},
   "outputs": [
    {
     "name": "stdout",
     "output_type": "stream",
     "text": [
      "\n",
      "Desired features available: ['age', 'chol', 'trestbps', 'thalach', 'cp']\n",
      "\n",
      "Final feature columns used for modeling:\n",
      "['age', 'chol', 'trestbps', 'thalach']\n"
     ]
    }
   ],
   "source": [
    "# 7. Preprocessing: select features for modeling based on problem statement but allow others\n",
    "# We'll use: age, chol (cholesterol), trestbps (resting blood pressure), thalach (max heart rate achieved), cp (chest pain)\n",
    "# If any are missing from dataset, use available numeric columns.\n",
    "desired_features = [\"age\", \"chol\", \"trestbps\", \"thalach\", \"cp\"]\n",
    "available = [f for f in desired_features if f in df.columns]\n",
    "print(\"\\nDesired features available:\", available)\n",
    "\n",
    "# If cp present and categorical, we will one-hot encode it.\n",
    "features = available.copy()\n",
    "X = df[features].copy()\n",
    "y = df[target_col].copy()\n",
    "\n",
    "# If cp exists but is numeric categories, convert to string then get_dummies\n",
    "if \"cp\" in X.columns:\n",
    "    X[\"cp\"] = X[\"cp\"].astype(str)\n",
    "\n",
    "# One-hot encode categorical columns in X (only cp here)\n",
    "X = pd.get_dummies(X, drop_first=True)\n",
    "\n",
    "# For any remaining non-numeric columns, drop them\n",
    "X = X.select_dtypes(include=[np.number])\n",
    "\n",
    "print(\"\\nFinal feature columns used for modeling:\")\n",
    "print(list(X.columns))"
   ]
  },
  {
   "cell_type": "code",
   "execution_count": 10,
   "id": "db73454b",
   "metadata": {},
   "outputs": [
    {
     "name": "stdout",
     "output_type": "stream",
     "text": [
      "\n",
      "Train shape: (820, 4) Test shape: (205, 4)\n"
     ]
    }
   ],
   "source": [
    "# 8. Train-test split\n",
    "X_train, X_test, y_train, y_test = train_test_split(X, y, stratify=y, test_size=0.2, random_state=42)\n",
    "print(\"\\nTrain shape:\", X_train.shape, \"Test shape:\", X_test.shape)"
   ]
  },
  {
   "cell_type": "code",
   "execution_count": 11,
   "id": "ef530997",
   "metadata": {},
   "outputs": [],
   "source": [
    "# 9. Scaling numeric features\n",
    "scaler = StandardScaler()\n",
    "X_train_scaled = scaler.fit_transform(X_train)\n",
    "X_test_scaled = scaler.transform(X_test)"
   ]
  },
  {
   "cell_type": "code",
   "execution_count": 12,
   "id": "b3398d31",
   "metadata": {},
   "outputs": [],
   "source": [
    "# 10. Train Logistic Regression\n",
    "lr = LogisticRegression(max_iter=1000, random_state=42)\n",
    "lr.fit(X_train_scaled, y_train)\n",
    "y_pred_lr = lr.predict(X_test_scaled)\n",
    "y_proba_lr = lr.predict_proba(X_test_scaled)[:,1]"
   ]
  },
  {
   "cell_type": "code",
   "execution_count": 13,
   "id": "83d10397",
   "metadata": {},
   "outputs": [],
   "source": [
    "# 11. Train Random Forest (with a small grid search for reasonable params)\n",
    "rf = RandomForestClassifier(random_state=42)\n",
    "param_grid = {\"n_estimators\":[100], \"max_depth\":[4,6,8]}\n",
    "gs = GridSearchCV(rf, param_grid, cv=4, scoring=\"roc_auc\", n_jobs=-1)\n",
    "gs.fit(X_train, y_train)\n",
    "best_rf = gs.best_estimator_\n",
    "y_pred_rf = best_rf.predict(X_test)\n",
    "y_proba_rf = best_rf.predict_proba(X_test)[:,1]"
   ]
  },
  {
   "cell_type": "code",
   "execution_count": 14,
   "id": "411d12eb",
   "metadata": {},
   "outputs": [
    {
     "name": "stdout",
     "output_type": "stream",
     "text": [
      "\n",
      "Logistic Regression - Accuracy: 0.7073  ROC-AUC: 0.7416\n",
      "Classification report:\n",
      "              precision    recall  f1-score   support\n",
      "\n",
      "           0       0.73      0.64      0.68       100\n",
      "           1       0.69      0.77      0.73       105\n",
      "\n",
      "    accuracy                           0.71       205\n",
      "   macro avg       0.71      0.71      0.71       205\n",
      "weighted avg       0.71      0.71      0.71       205\n",
      "\n",
      "Confusion matrix:\n",
      "[[64 36]\n",
      " [24 81]]\n",
      "\n",
      "Random Forest (best) - Accuracy: 0.9415  ROC-AUC: 0.9785\n",
      "Classification report:\n",
      "              precision    recall  f1-score   support\n",
      "\n",
      "           0       0.94      0.94      0.94       100\n",
      "           1       0.94      0.94      0.94       105\n",
      "\n",
      "    accuracy                           0.94       205\n",
      "   macro avg       0.94      0.94      0.94       205\n",
      "weighted avg       0.94      0.94      0.94       205\n",
      "\n",
      "Confusion matrix:\n",
      "[[94  6]\n",
      " [ 6 99]]\n"
     ]
    }
   ],
   "source": [
    "# 12. Evaluation\n",
    "def evaluate_model(name, y_true, y_pred, y_proba):\n",
    "    acc = accuracy_score(y_true, y_pred)\n",
    "    roc = roc_auc_score(y_true, y_proba)\n",
    "    print(f\"\\n{name} - Accuracy: {acc:.4f}  ROC-AUC: {roc:.4f}\")\n",
    "    print(\"Classification report:\")\n",
    "    print(classification_report(y_true, y_pred))\n",
    "    print(\"Confusion matrix:\")\n",
    "    print(confusion_matrix(y_true, y_pred))\n",
    "\n",
    "evaluate_model(\"Logistic Regression\", y_test, y_pred_lr, y_proba_lr)\n",
    "evaluate_model(\"Random Forest (best)\", y_test, y_pred_rf, y_proba_rf)"
   ]
  },
  {
   "cell_type": "code",
   "execution_count": 15,
   "id": "f22e67fe",
   "metadata": {},
   "outputs": [
    {
     "name": "stdout",
     "output_type": "stream",
     "text": [
      "\n",
      "Random Forest feature importances:\n"
     ]
    },
    {
     "data": {
      "application/vnd.microsoft.datawrangler.viewer.v0+json": {
       "columns": [
        {
         "name": "index",
         "rawType": "object",
         "type": "string"
        },
        {
         "name": "0",
         "rawType": "float64",
         "type": "float"
        }
       ],
       "ref": "40f8d517-9e54-46d8-ba70-c778a4afcc0c",
       "rows": [
        [
         "thalach",
         "0.35205386608714373"
        ],
        [
         "age",
         "0.26634049476083915"
        ],
        [
         "chol",
         "0.2097542082459641"
        ],
        [
         "trestbps",
         "0.17185143090605312"
        ]
       ],
       "shape": {
        "columns": 1,
        "rows": 4
       }
      },
      "text/plain": [
       "thalach     0.352054\n",
       "age         0.266340\n",
       "chol        0.209754\n",
       "trestbps    0.171851\n",
       "dtype: float64"
      ]
     },
     "metadata": {},
     "output_type": "display_data"
    },
    {
     "name": "stdout",
     "output_type": "stream",
     "text": [
      "\n",
      "Logistic Regression coefficients (absolute value, sorted):\n"
     ]
    },
    {
     "data": {
      "application/vnd.microsoft.datawrangler.viewer.v0+json": {
       "columns": [
        {
         "name": "index",
         "rawType": "object",
         "type": "string"
        },
        {
         "name": "0",
         "rawType": "float64",
         "type": "float"
        }
       ],
       "ref": "c7206c4f-0722-44cd-9c93-752dcfbf6e21",
       "rows": [
        [
         "thalach",
         "1.0012313014293581"
        ],
        [
         "trestbps",
         "0.304342290124141"
        ],
        [
         "chol",
         "0.1648057032053241"
        ],
        [
         "age",
         "0.11946854267376882"
        ]
       ],
       "shape": {
        "columns": 1,
        "rows": 4
       }
      },
      "text/plain": [
       "thalach     1.001231\n",
       "trestbps    0.304342\n",
       "chol        0.164806\n",
       "age         0.119469\n",
       "dtype: float64"
      ]
     },
     "metadata": {},
     "output_type": "display_data"
    }
   ],
   "source": [
    "# 13. Feature importance\n",
    "print(\"\\nRandom Forest feature importances:\")\n",
    "rf_imp = pd.Series(best_rf.feature_importances_, index=X.columns).sort_values(ascending=False)\n",
    "display(rf_imp)\n",
    "\n",
    "print(\"\\nLogistic Regression coefficients (absolute value, sorted):\")\n",
    "lr_coef = pd.Series(np.abs(lr.coef_[0]), index=X.columns).sort_values(ascending=False)\n",
    "display(lr_coef)"
   ]
  },
  {
   "cell_type": "code",
   "execution_count": 16,
   "id": "9bd5d03d",
   "metadata": {},
   "outputs": [
    {
     "data": {
      "image/png": "[encoded data removed]",
      "text/plain": [
       "<Figure size 640x480 with 1 Axes>"
      ]
     },
     "metadata": {},
     "output_type": "display_data"
    }
   ],
   "source": [
    "# 14. ROC curve for best of the two by ROC-AUC\n",
    "roc_lr = roc_auc_score(y_test, y_proba_lr)\n",
    "roc_rf = roc_auc_score(y_test, y_proba_rf)\n",
    "best_name = \"Random Forest\" if roc_rf >= roc_lr else \"Logistic Regression\"\n",
    "best_proba = y_proba_rf if best_name==\"Random Forest\" else y_proba_lr\n",
    "\n",
    "fpr, tpr, _ = roc_curve(y_test, best_proba)\n",
    "roc_auc = auc(fpr,tpr)\n",
    "\n",
    "plt.figure()\n",
    "plt.plot(fpr, tpr)\n",
    "plt.plot([0,1],[0,1],'--')\n",
    "plt.xlabel(\"False Positive Rate\")\n",
    "plt.ylabel(\"True Positive Rate\")\n",
    "plt.title(f\"ROC Curve - {best_name} (AUC = {roc_auc:.3f})\")\n",
    "plt.tight_layout()\n",
    "plt.show()"
   ]
  },
  {
   "cell_type": "code",
   "execution_count": 17,
   "id": "fc598cba",
   "metadata": {},
   "outputs": [
    {
     "name": "stdout",
     "output_type": "stream",
     "text": [
      "\n",
      "Saved models to: ..\\Healthcare\\modeloutput\n"
     ]
    },
    {
     "data": {
      "text/plain": [
       "'EDA + Feature Summary'"
      ]
     },
     "metadata": {},
     "output_type": "display_data"
    },
    {
     "data": {
      "application/vnd.microsoft.datawrangler.viewer.v0+json": {
       "columns": [
        {
         "name": "index",
         "rawType": "int64",
         "type": "integer"
        },
        {
         "name": "feature",
         "rawType": "object",
         "type": "string"
        },
        {
         "name": "mean",
         "rawType": "float64",
         "type": "float"
        },
        {
         "name": "std",
         "rawType": "float64",
         "type": "float"
        },
        {
         "name": "rf_importance",
         "rawType": "float64",
         "type": "float"
        },
        {
         "name": "lr_coef_abs",
         "rawType": "float64",
         "type": "float"
        }
       ],
       "ref": "f6635890-7520-465e-a420-08e65f45202f",
       "rows": [
        [
         "0",
         "thalach",
         "149.11414634146342",
         "23.005723745977196",
         "0.35205386608714373",
         "1.0012313014293581"
        ],
        [
         "1",
         "age",
         "54.43414634146342",
         "9.072290233244281",
         "0.26634049476083915",
         "0.11946854267376882"
        ],
        [
         "2",
         "chol",
         "246.0",
         "51.59251020618206",
         "0.2097542082459641",
         "0.1648057032053241"
        ],
        [
         "3",
         "trestbps",
         "131.61170731707318",
         "17.516718005376408",
         "0.17185143090605312",
         "0.304342290124141"
        ]
       ],
       "shape": {
        "columns": 5,
        "rows": 4
       }
      },
      "text/html": [
       "<div>\n",
       "<style scoped>\n",
       "    .dataframe tbody tr th:only-of-type {\n",
       "        vertical-align: middle;\n",
       "    }\n",
       "\n",
       "    .dataframe tbody tr th {\n",
       "        vertical-align: top;\n",
       "    }\n",
       "\n",
       "    .dataframe thead th {\n",
       "        text-align: right;\n",
       "    }\n",
       "</style>\n",
       "<table border=\"1\" class=\"dataframe\">\n",
       "  <thead>\n",
       "    <tr style=\"text-align: right;\">\n",
       "      <th></th>\n",
       "      <th>feature</th>\n",
       "      <th>mean</th>\n",
       "      <th>std</th>\n",
       "      <th>rf_importance</th>\n",
       "      <th>lr_coef_abs</th>\n",
       "    </tr>\n",
       "  </thead>\n",
       "  <tbody>\n",
       "    <tr>\n",
       "      <th>0</th>\n",
       "      <td>thalach</td>\n",
       "      <td>149.114146</td>\n",
       "      <td>23.005724</td>\n",
       "      <td>0.352054</td>\n",
       "      <td>1.001231</td>\n",
       "    </tr>\n",
       "    <tr>\n",
       "      <th>1</th>\n",
       "      <td>age</td>\n",
       "      <td>54.434146</td>\n",
       "      <td>9.072290</td>\n",
       "      <td>0.266340</td>\n",
       "      <td>0.119469</td>\n",
       "    </tr>\n",
       "    <tr>\n",
       "      <th>2</th>\n",
       "      <td>chol</td>\n",
       "      <td>246.000000</td>\n",
       "      <td>51.592510</td>\n",
       "      <td>0.209754</td>\n",
       "      <td>0.164806</td>\n",
       "    </tr>\n",
       "    <tr>\n",
       "      <th>3</th>\n",
       "      <td>trestbps</td>\n",
       "      <td>131.611707</td>\n",
       "      <td>17.516718</td>\n",
       "      <td>0.171851</td>\n",
       "      <td>0.304342</td>\n",
       "    </tr>\n",
       "  </tbody>\n",
       "</table>\n",
       "</div>"
      ],
      "text/plain": [
       "    feature        mean        std  rf_importance  lr_coef_abs\n",
       "0   thalach  149.114146  23.005724       0.352054     1.001231\n",
       "1       age   54.434146   9.072290       0.266340     0.119469\n",
       "2      chol  246.000000  51.592510       0.209754     0.164806\n",
       "3  trestbps  131.611707  17.516718       0.171851     0.304342"
      ]
     },
     "metadata": {},
     "output_type": "display_data"
    },
    {
     "name": "stdout",
     "output_type": "stream",
     "text": [
      "\n",
      "Files created for download:\n",
      "..\\Healthcare\\modeloutput\\best_rf.joblib\n",
      "..\\Healthcare\\modeloutput\\logistic_regression.joblib\n",
      "..\\Healthcare\\modeloutput\\scaler.joblib\n"
     ]
    }
   ],
   "source": [
    "\n",
    "# 15. Save the final model and scaler for download\n",
    "import joblib\n",
    "out_dir = Path(r\"..\\Healthcare\\modeloutput\")\n",
    "out_dir.mkdir(exist_ok=True)\n",
    "joblib.dump(best_rf, out_dir/\"best_rf.joblib\")\n",
    "joblib.dump(scaler, out_dir/\"scaler.joblib\")\n",
    "joblib.dump(lr, out_dir/\"logistic_regression.joblib\")\n",
    "print(\"\\nSaved models to:\", out_dir)\n",
    "\n",
    "# Display a compact EDA summary table\n",
    "eda_summary = pd.DataFrame({\n",
    "    \"feature\": X.columns,\n",
    "    \"mean\": X.mean().values,\n",
    "    \"std\": X.std().values,\n",
    "    \"rf_importance\": best_rf.feature_importances_,\n",
    "    \"lr_coef_abs\": np.abs(lr.coef_[0])\n",
    "}).sort_values(\"rf_importance\", ascending=False)\n",
    "\n",
    "# Display the summary table\n",
    "from IPython.display import display\n",
    "display(\"EDA + Feature Summary\", eda_summary.reset_index(drop=True))\n",
    "\n",
    "print(\"\\nFiles created for download:\")\n",
    "for p in out_dir.iterdir():\n",
    "    print(p)\n",
    "\n",
    "\n"
   ]
  }
 ],
 "metadata": {
  "kernelspec": {
   "display_name": "base",
   "language": "python",
   "name": "python3"
  },
  "language_info": {
   "codemirror_mode": {
    "name": "ipython",
    "version": 3
   },
   "file_extension": ".py",
   "mimetype": "text/x-python",
   "name": "python",
   "nbconvert_exporter": "python",
   "pygments_lexer": "ipython3",
   "version": "3.13.5"
  }
 },
 "nbformat": 4,
 "nbformat_minor": 5
}
